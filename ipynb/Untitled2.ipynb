{
 "cells": [
  {
   "cell_type": "code",
   "execution_count": 3,
   "metadata": {},
   "outputs": [],
   "source": [
    "def perceptronV2(X,y, w=None,eta=0.1,epochs=10,random_seed=1):\n",
    "    if x is None:\n",
    "        randnum=np.random.RandomState(random_seed)\n",
    "        w=randnum.normal(loc=0.0,scale=0.01,size=X.shape[1])\n",
    "    maxy,miny=y.max(),y.min()\n",
    "    for _ in np.arange(epoches):\n",
    "        for xi, yi in zip(X,y):\n",
    "            z=np.dot(xi,w)\n",
    "            yhat=np.where(z>0.0,maxy,miny)\n",
    "            if yhat != yi:\n",
    "                delta=eta*(yhat-yi)*xi\n",
    "                w+=delta\n",
    "    return w"
   ]
  },
  {
   "cell_type": "code",
   "execution_count": null,
   "metadata": {},
   "outputs": [],
   "source": []
  }
 ],
 "metadata": {
  "kernelspec": {
   "display_name": "Python 3",
   "language": "python",
   "name": "python3"
  },
  "language_info": {
   "codemirror_mode": {
    "name": "ipython",
    "version": 3
   },
   "file_extension": ".py",
   "mimetype": "text/x-python",
   "name": "python",
   "nbconvert_exporter": "python",
   "pygments_lexer": "ipython3",
   "version": "3.8.3"
  }
 },
 "nbformat": 4,
 "nbformat_minor": 4
}
