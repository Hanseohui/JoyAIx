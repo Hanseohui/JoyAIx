{
 "cells": [
  {
   "cell_type": "markdown",
   "metadata": {},
   "source": [
    "# 1문제"
   ]
  },
  {
   "cell_type": "code",
   "execution_count": 50,
   "metadata": {},
   "outputs": [
    {
     "name": "stdout",
     "output_type": "stream",
     "text": [
      "Enter an integer number: 321\n",
      "1\n",
      "<class 'str'>\n"
     ]
    }
   ],
   "source": [
    "a = input(\"Enter an integer number: \")\n",
    "\n",
    "l=len(a)\n",
    "\n",
    "print(a[l-1])\n",
    "\n",
    "print(type(a))\n",
    "\n",
    "\n"
   ]
  },
  {
   "cell_type": "markdown",
   "metadata": {},
   "source": [
    "# 2번문제"
   ]
  },
  {
   "cell_type": "code",
   "execution_count": 18,
   "metadata": {},
   "outputs": [
    {
     "name": "stdout",
     "output_type": "stream",
     "text": [
      "3 digit number: 256\n",
      "13\n"
     ]
    }
   ],
   "source": [
    "t = int(input(\"3 digit number: \"))\n",
    "x = t//100                \n",
    "y = t//10-(x*10)                 \n",
    "z = t//1-(x*100)-(y*10)                \n",
    "print (x + y + z)"
   ]
  },
  {
   "cell_type": "code",
   "execution_count": 7,
   "metadata": {},
   "outputs": [
    {
     "name": "stdout",
     "output_type": "stream",
     "text": [
      "3 digit number: 567\n",
      "18\n"
     ]
    }
   ],
   "source": [
    "q = input(\"3 digit number: \")\n",
    "w=0\n",
    "for i in q:\n",
    "    w=w+int(i)\n",
    "print(w)\n",
    "    "
   ]
  },
  {
   "cell_type": "markdown",
   "metadata": {},
   "source": [
    "# 3번문제"
   ]
  },
  {
   "cell_type": "code",
   "execution_count": 54,
   "metadata": {},
   "outputs": [
    {
     "name": "stdout",
     "output_type": "stream",
     "text": [
      "1111\n",
      "18 : 31\n"
     ]
    }
   ],
   "source": [
    "z = int(input())\n",
    "c=z//60\n",
    "v=z%60\n",
    "print(c,':',v)\n"
   ]
  },
  {
   "cell_type": "markdown",
   "metadata": {},
   "source": [
    "# 4번문제"
   ]
  },
  {
   "cell_type": "code",
   "execution_count": 49,
   "metadata": {},
   "outputs": [
    {
     "name": "stdout",
     "output_type": "stream",
     "text": [
      "x:22\n",
      "y:22\n",
      "z:22\n",
      "3\n"
     ]
    }
   ],
   "source": [
    "x = int(input(\"x:\"))\n",
    "y = int(input(\"y:\"))\n",
    "z = int(input(\"z:\"))\n",
    "\n",
    "if x == y:\n",
    "    if x==z:\n",
    "        print(3)\n",
    "    else:\n",
    "        print(2)\n",
    "elif x != y:\n",
    "    if x==z:\n",
    "        print(2)\n",
    "    elif y==z:\n",
    "        print(2)\n",
    "    else:\n",
    "        print(0)\n"
   ]
  }
 ],
 "metadata": {
  "kernelspec": {
   "display_name": "Python 3",
   "language": "python",
   "name": "python3"
  },
  "language_info": {
   "codemirror_mode": {
    "name": "ipython",
    "version": 3
   },
   "file_extension": ".py",
   "mimetype": "text/x-python",
   "name": "python",
   "nbconvert_exporter": "python",
   "pygments_lexer": "ipython3",
   "version": "3.8.3"
  }
 },
 "nbformat": 4,
 "nbformat_minor": 4
}
